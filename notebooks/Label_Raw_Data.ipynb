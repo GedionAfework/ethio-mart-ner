{
 "cells": [
  {
   "cell_type": "code",
   "execution_count": 4,
   "id": "f0fcc6ea",
   "metadata": {},
   "outputs": [],
   "source": [
    "import pandas as pd\n",
    "import re\n",
    "import os\n",
    "from datasets import Dataset\n",
    "\n",
    "os.makedirs('data/labeled', exist_ok=True)\n",
    "os.makedirs('data/processed', exist_ok=True)\n",
    "\n",
    "raw_data = pd.read_csv('../data/processed/processed_data_20250622_231744.csv')\n",
    "\n",
    "product_patterns = ['የፍራፍሬ', 'ሶፋና', 'አልጋ', 'የቀለሜ', 'መነሻ', 'መጥበሻ', 'ጆግና', 'የሕፃን', 'የሽንት', 'ምንጣፍ']\n",
    "price_patterns = [r'\\d+\\s*ብር', r'\\d+']\n",
    "location_patterns = ['ገርጂ', 'መገናኛ', '4ኪሎ', 'ልደታ', 'ድሬዳዋ', 'መሰረት', 'ደፋር', 'ሞል', 'ሜክሲኮ']\n",
    "\n",
    "def label_message(text):\n",
    "    if not isinstance(text, str):\n",
    "        return {'tokens': [], 'ner_tags': []}\n",
    "    tokens = text.split()\n",
    "    labels = ['O'] * len(tokens)\n",
    "    for idx, token in enumerate(tokens):\n",
    "        if any(re.match(pattern, token) for pattern in price_patterns):\n",
    "            labels[idx] = 'B-PRICE'\n",
    "            if idx + 1 < len(tokens) and tokens[idx + 1] == 'ብር':\n",
    "                labels[idx + 1] = 'I-PRICE'\n",
    "        elif any(product in token for product in product_patterns):\n",
    "            labels[idx] = 'B-Product'\n",
    "            for next_idx in range(idx + 1, len(tokens)):\n",
    "                if next_idx == len(tokens) - 1 or tokens[next_idx] in ['እና', '፤', '፣']:\n",
    "                    break\n",
    "                labels[next_idx] = 'I-Product'\n",
    "        elif any(loc in token for loc in location_patterns):\n",
    "            labels[idx] = 'B-LOC'\n",
    "            for next_idx in range(idx + 1, len(tokens)):\n",
    "                if next_idx == len(tokens) - 1 or tokens[next_idx] in ['እና', '፤', '፣']:\n",
    "                    break\n",
    "                labels[next_idx] = 'I-LOC'\n",
    "    return {'tokens': tokens, 'ner_tags': labels}\n",
    "\n",
    "labeled_data = raw_data['Message Text'].apply(label_message)\n",
    "data_dict = {'tokens': labeled_data.apply(lambda x: x['tokens']).tolist(),\n",
    "             'ner_tags': labeled_data.apply(lambda x: x['ner_tags']).tolist()}\n",
    "\n",
    "data_dict = {'tokens': [t for t in data_dict['tokens'] if t],\n",
    "             'ner_tags': [l for l in data_dict['ner_tags'] if l]}\n",
    "\n",
    "with open('../data/labeled/relabeled_data_20250622_232809.conll', 'w', encoding='utf-8') as f:\n",
    "    for tokens, labels in zip(data_dict['tokens'], data_dict['ner_tags']):\n",
    "        for token, label in zip(tokens, labels):\n",
    "            f.write(f\"{token} {label}\\n\")\n",
    "        f.write(\"\\n\")\n"
   ]
  },
  {
   "cell_type": "code",
   "execution_count": 5,
   "id": "0e412a43",
   "metadata": {},
   "outputs": [
    {
     "name": "stderr",
     "output_type": "stream",
     "text": [
      "Saving the dataset (1/1 shards): 100%|██████████| 364/364 [00:00<00:00, 11065.80 examples/s]"
     ]
    },
    {
     "name": "stderr",
     "output_type": "stream",
     "text": [
      "\n",
      "Saving the dataset (1/1 shards): 100%|██████████| 92/92 [00:00<00:00, 4190.75 examples/s]\n"
     ]
    },
    {
     "data": {
      "text/html": [
       "<div>\n",
       "<style scoped>\n",
       "    .dataframe tbody tr th:only-of-type {\n",
       "        vertical-align: middle;\n",
       "    }\n",
       "\n",
       "    .dataframe tbody tr th {\n",
       "        vertical-align: top;\n",
       "    }\n",
       "\n",
       "    .dataframe thead th {\n",
       "        text-align: right;\n",
       "    }\n",
       "</style>\n",
       "<table border=\"1\" class=\"dataframe\">\n",
       "  <thead>\n",
       "    <tr style=\"text-align: right;\">\n",
       "      <th></th>\n",
       "      <th>tokens</th>\n",
       "      <th>ner_tags</th>\n",
       "    </tr>\n",
       "  </thead>\n",
       "  <tbody>\n",
       "    <tr>\n",
       "      <th>0</th>\n",
       "      <td>[8️⃣pcs, Glass, Kettle, Set, ⭐️ማራኪ, እና, በዉብ, ዲ...</td>\n",
       "      <td>[B-PRICE, O, O, O, O, O, O, O, B-PRICE, O, O, ...</td>\n",
       "    </tr>\n",
       "    <tr>\n",
       "      <th>1</th>\n",
       "      <td>[ከስምንት, አመት, ጀምሮ, ላሉ, ልጆች, የሚመከር, 📱0989939393,...</td>\n",
       "      <td>[O, O, O, O, O, O, O, O, B-PRICE, O, O, O, O, O]</td>\n",
       "    </tr>\n",
       "    <tr>\n",
       "      <th>2</th>\n",
       "      <td>[NIKE, PENNY, 1, original, 💯, Size, 40#41#42#4...</td>\n",
       "      <td>[O, O, B-PRICE, O, O, O, B-PRICE, O, O, O, O, ...</td>\n",
       "    </tr>\n",
       "    <tr>\n",
       "      <th>3</th>\n",
       "      <td>[ድክዬ, ባለ, ድምፅ, የህፃናት, መመሪያ!!, ልጆችዎ, ድክ, ድክ, ብለ...</td>\n",
       "      <td>[O, O, O, O, O, O, O, O, O, O, O, O, O, O, O, ...</td>\n",
       "    </tr>\n",
       "    <tr>\n",
       "      <th>4</th>\n",
       "      <td>[Under, armour, Curry, 11ORIGINAL, 💯, Size, 40...</td>\n",
       "      <td>[O, O, O, B-PRICE, O, O, B-PRICE, O, O, O, O, ...</td>\n",
       "    </tr>\n",
       "  </tbody>\n",
       "</table>\n",
       "</div>"
      ],
      "text/plain": [
       "                                              tokens  \\\n",
       "0  [8️⃣pcs, Glass, Kettle, Set, ⭐️ማራኪ, እና, በዉብ, ዲ...   \n",
       "1  [ከስምንት, አመት, ጀምሮ, ላሉ, ልጆች, የሚመከር, 📱0989939393,...   \n",
       "2  [NIKE, PENNY, 1, original, 💯, Size, 40#41#42#4...   \n",
       "3  [ድክዬ, ባለ, ድምፅ, የህፃናት, መመሪያ!!, ልጆችዎ, ድክ, ድክ, ብለ...   \n",
       "4  [Under, armour, Curry, 11ORIGINAL, 💯, Size, 40...   \n",
       "\n",
       "                                            ner_tags  \n",
       "0  [B-PRICE, O, O, O, O, O, O, O, B-PRICE, O, O, ...  \n",
       "1   [O, O, O, O, O, O, O, O, B-PRICE, O, O, O, O, O]  \n",
       "2  [O, O, B-PRICE, O, O, O, B-PRICE, O, O, O, O, ...  \n",
       "3  [O, O, O, O, O, O, O, O, O, O, O, O, O, O, O, ...  \n",
       "4  [O, O, O, B-PRICE, O, O, B-PRICE, O, O, O, O, ...  "
      ]
     },
     "execution_count": 5,
     "metadata": {},
     "output_type": "execute_result"
    }
   ],
   "source": [
    "dataset = Dataset.from_dict(data_dict)\n",
    "dataset = dataset.train_test_split(test_size=0.2, seed=42)\n",
    "dataset.save_to_disk('../data/processed/tokenized_dataset')\n",
    "\n",
    "pd.DataFrame({'tokens': dataset['train']['tokens'][:5], 'ner_tags': dataset['train']['ner_tags'][:5]})\n"
   ]
  }
 ],
 "metadata": {
  "kernelspec": {
   "display_name": ".venv",
   "language": "python",
   "name": "python3"
  },
  "language_info": {
   "codemirror_mode": {
    "name": "ipython",
    "version": 3
   },
   "file_extension": ".py",
   "mimetype": "text/x-python",
   "name": "python",
   "nbconvert_exporter": "python",
   "pygments_lexer": "ipython3",
   "version": "3.10.7"
  }
 },
 "nbformat": 4,
 "nbformat_minor": 5
}
